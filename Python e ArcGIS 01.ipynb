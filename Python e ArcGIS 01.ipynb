{
 "cells": [
  {
   "cell_type": "markdown",
   "metadata": {},
   "source": [
    "# Python and ArcGIS Integration\n",
    "\n",
    "### What is it?\n",
    "\n",
    "- The ArcGIS website offers an API to be used with Python to access the ArcGIS functionalities. The API makes it easy and natural for a Python programmer to use ArcGIS, and conversely, an ArcGIS user to script and automate their GIS.\n",
    "- The ArcGIS Online helps users build interactive maps that explain data and encourage users to explore. User map their own data and gain perspective by adding the authoritative location-based data. Use smart mapping to guide data exploration and visualization. \n",
    "\n",
    "### How to use?\n",
    "\n",
    "By consulting the ArcGIS API\n",
    "\n",
    "API link: https://developers.arcgis.com/python/guide/install-and-set-up/\n",
    "\n",
    "\n",
    "### Challenges: The ArcGIS do not work with all Python versions and in this case lets use version 3.7\n",
    "\n",
    "For this reason we have created a Virtual Environment and installed Python 3.7"
   ]
  },
  {
   "cell_type": "markdown",
   "metadata": {},
   "source": [
    "1. Install the ArcGIS using conda\n",
    "\n",
    "Comand: conda install -c esri arcgis"
   ]
  },
  {
   "cell_type": "markdown",
   "metadata": {},
   "source": [
    "2. Connecting the API"
   ]
  },
  {
   "cell_type": "code",
   "execution_count": null,
   "metadata": {},
   "outputs": [],
   "source": []
  }
 ],
 "metadata": {
  "kernelspec": {
   "display_name": "Python 3",
   "language": "python",
   "name": "python3"
  },
  "language_info": {
   "codemirror_mode": {
    "name": "ipython",
    "version": 3
   },
   "file_extension": ".py",
   "mimetype": "text/x-python",
   "name": "python",
   "nbconvert_exporter": "python",
   "pygments_lexer": "ipython3",
   "version": "3.7.13"
  }
 },
 "nbformat": 4,
 "nbformat_minor": 4
}
